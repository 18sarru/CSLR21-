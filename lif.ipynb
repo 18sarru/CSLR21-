{
  "nbformat": 4,
  "nbformat_minor": 0,
  "metadata": {
    "colab": {
      "name": "lif.ipynb",
      "provenance": [],
      "mount_file_id": "1F7PDhhXkkTSOZP89bdvWGkBY-ui-R_RN",
      "authorship_tag": "ABX9TyPOZQuwH0M+iUs973ry9GKP",
      "include_colab_link": true
    },
    "kernelspec": {
      "name": "python3",
      "display_name": "Python 3"
    },
    "language_info": {
      "name": "python"
    }
  },
  "cells": [
    {
      "cell_type": "markdown",
      "metadata": {
        "id": "view-in-github",
        "colab_type": "text"
      },
      "source": [
        "<a href=\"https://colab.research.google.com/github/18sarru/CSLR21-/blob/master/lif.ipynb\" target=\"_parent\"><img src=\"https://colab.research.google.com/assets/colab-badge.svg\" alt=\"Open In Colab\"/></a>"
      ]
    },
    {
      "cell_type": "code",
      "metadata": {
        "id": "im5VOS-nIA6l"
      },
      "source": [
        "import numpy as np\n",
        "import matplotlib.pyplot as plt\n",
        "import pandas as pd\n",
        "import random\n",
        "%matplotlib inline"
      ],
      "execution_count": 1,
      "outputs": []
    },
    {
      "cell_type": "code",
      "metadata": {
        "id": "0ASvEG1yJcVP"
      },
      "source": [
        "import sys\n",
        "sys.path.append('/content/drive/MyDrive/Spiking-Neural-Network-master')\n",
        "from neurons import LIFNeuron as LIF\n",
        "from utils import graph_results as graph"
      ],
      "execution_count": null,
      "outputs": []
    },
    {
      "cell_type": "code",
      "metadata": {
        "id": "iCq1i0ubLKKN"
      },
      "source": [
        "!pip install python-mnist\n",
        "from mnist import MNIST "
      ],
      "execution_count": null,
      "outputs": []
    },
    {
      "cell_type": "code",
      "metadata": {
        "id": "CuSBAd2iMhe7"
      },
      "source": [
        "T         = 20   #50    # total time to sumulate (msec)\n",
        "dt        = 0.0125 # Simulation timestep\n",
        "time      = int(T / dt)\n",
        "\n",
        "debug=True"
      ],
      "execution_count": null,
      "outputs": []
    },
    {
      "cell_type": "code",
      "metadata": {
        "id": "2B0aYAovNux8"
      },
      "source": [
        "'''mndata = MNIST('./mnist')\n",
        "images, labels = mndata.load_training()\n",
        "\n",
        "from mlxtend.data import loadlocal_mnist\n",
        "import platform\n",
        "if not platform.system() == 'Windows':\n",
        "    images, labels = loadlocal_mnist(\n",
        "            images_path='train-images-idx3-ubyte', \n",
        "            labels_path='train-labels-idx1-ubyte')\n",
        "\n",
        "else:\n",
        "    images, labels= loadlocal_mnist(\n",
        "            images_path='train-images.idx3-ubyte', \n",
        "            labels_path='train-labels.idx1-ubyte')\n",
        "            \n",
        "    '''\n",
        "import tensorflow as tf\n",
        "(images, labels), (\n",
        "    test_images,\n",
        "    test_labels,\n",
        ") = tf.keras.datasets.mnist.load_data()\n",
        "def get_next_image(index=0):\n",
        "    return images[index]\n",
        "    \n",
        "image = get_next_image(index=0)  #rendering"
      ],
      "execution_count": null,
      "outputs": []
    },
    {
      "cell_type": "code",
      "metadata": {
        "id": "QOWJcK-HLZj3"
      },
      "source": [
        "image=np.asarray(image).reshape((28,28))\n",
        "image_norm = (image * 255.0/image.max()) / 255.\n",
        "print(image_norm)\n",
        "print(image.shape)"
      ],
      "execution_count": null,
      "outputs": []
    },
    {
      "cell_type": "code",
      "metadata": {
        "id": "ed9TJVGNMwz-"
      },
      "source": [
        "stride = (4,2)   # TODO: This will be 4 on-centre neurons, 2 surround (off-centre) neurons  /////////// we create a set of kernels for image\n",
        "stride_size = stride[0] + stride[1]\n",
        "len_x, len_y = image.shape\n",
        "x_max = int(len_x/stride[0])\n",
        "y_max = int(len_y/stride[0])\n",
        "print ('Convolution Dimensions: x={} / y={}'.format(x_max, y_max))  #', starting at x={}, y={}'.format(x_max, y_max, x_count, y_count))"
      ],
      "execution_count": null,
      "outputs": []
    },
    {
      "cell_type": "code",
      "metadata": {
        "id": "XODHAEzoM1s7"
      },
      "source": [
        "fig = plt.figure() #int(x_max+1) * int(y_max+1))\n",
        "x_count, y_count = 1, 1\n",
        "\n",
        "for y in range (0, len_y, stride[0]):\n",
        "    x_count = 1\n",
        "    for x in range(0, len_x, stride[0]):\n",
        "        x_end = x + stride[0]\n",
        "        y_end = y + stride[0]\n",
        "        kernel = image_norm[y:y_end, x:x_end]\n",
        "        #orientation = s1(kernel)\n",
        "        a = fig.add_subplot(y_max, x_max, (y_count-1)*x_max+x_count)\n",
        "        a.axis('off')\n",
        "        plt.imshow(kernel, cmap=\"gray\")    \n",
        "        x_count += 1\n",
        "    y_count += 1\n",
        "plt.show()    "
      ],
      "execution_count": null,
      "outputs": []
    },
    {
      "cell_type": "code",
      "metadata": {
        "id": "E1NNPSVoNPuZ"
      },
      "source": [
        "''''\n",
        "Process the image 1 pixel at a time\n",
        "\n",
        "First create a set of neurons for each of the pixels. Assume 1-to-1 mapping, and no concept of a retinal unit. This will come later.\n",
        "'''\n",
        "neurons = []\n",
        "print('Creating {} x {} neurons'.format(len_x, len_y))\n",
        "for y in range (0, len_y, 1):\n",
        "    neuron_row=[]\n",
        "    for x in range(0, len_x, 1):\n",
        "        neuron_row.append(LIF.LIFNeuron(neuron_label=\"{}/{}\".format(y,x), debug=debug))\n",
        "    neurons.append(neuron_row)"
      ],
      "execution_count": null,
      "outputs": []
    },
    {
      "cell_type": "code",
      "metadata": {
        "id": "AvjVU_uONhei"
      },
      "source": [
        "start_x = 5\n",
        "start_y = 5\n",
        "\n",
        "print(len_x, len_y)"
      ],
      "execution_count": null,
      "outputs": []
    },
    {
      "cell_type": "code",
      "metadata": {
        "id": "21WnjnquNiSs"
      },
      "source": [
        "# applying stimulus\n",
        "\n",
        "#for y in range(0, len_y, start_y + stride_size, 1):\n",
        "#    for x in range(start_x, start_x + stride_size, 1):\n",
        "for y in range(0, len_y, 1):\n",
        "    for x in range(0, len_x, 1):\n",
        "        stimulus = np.full((time), image_norm[y,x])\n",
        "        print('Stimulus from image @ {}/{}: {}'.format(y, x, stimulus))\n",
        "        print('Processing spike generator for neuron {}/{}: {}'.format(y,x,neurons[y][x].neuron_label))\n",
        "        neurons[y][x].spike_generator(stimulus)\n",
        "        print('Stats for neuron {},{}: time={}, stimulus={}, spikes={}' \\\n",
        "              .format(x,y,time, stimulus.shape, neurons[y][x].spikes)) #.shape))\n",
        "        #graph.plot_membrane_potential(neurons[neuron_x][neuron_y].time, neurons[neuron_x][neuron_y].Vm, 'Membrane Potential {}'.format(neurons[neuron_x][neuron_y].type), neuron_id = \"{}/{}\".format(neuron_x, neuron_y))\n",
        "        #graph.plot_spikes(neurons[neuron_x][neuron_y].time, neurons[neuron_x][neuron_y].spikes, 'Output spikes for {}'.format(neurons[neuron_x][neuron_y].type), neuron_id = \"{}/{}\".format(neuron_x, neuron_y))"
      ],
      "execution_count": null,
      "outputs": []
    },
    {
      "cell_type": "code",
      "metadata": {
        "id": "oVSFZODBNmbG"
      },
      "source": [
        "#Sample a neuron to see how it behaves under stimulus from the image\n",
        "ny, nx = 5, 21\n",
        "print(neurons[ny][nx].time.shape)\n",
        "print(neurons[ny][nx].spikes.shape)\n",
        "print(neurons[ny][nx].Vm.shape)"
      ],
      "execution_count": null,
      "outputs": []
    },
    {
      "cell_type": "code",
      "metadata": {
        "id": "_gxfcG8-N8zw"
      },
      "source": [
        "print(neurons[ny][nx].neuron_label)"
      ],
      "execution_count": null,
      "outputs": []
    },
    {
      "cell_type": "code",
      "metadata": {
        "id": "BVV9Bk6TN_hB"
      },
      "source": [
        "graph.plot_spikes(neurons[ny][nx].time, neurons[ny][nx].spikes, \n",
        "            'Output Spikes for {}'.format(neurons[ny][nx].type), neuron_id = '{}/{}'.format(ny, nx))\n",
        "graph.plot_membrane_potential(neurons[ny][nx].time, neurons[ny][nx].Vm, \n",
        "            'Membrane Potential {}'.format(neurons[ny][nx].type), neuron_id = '{}/{}'.format(ny, nx))"
      ],
      "execution_count": null,
      "outputs": []
    },
    {
      "cell_type": "code",
      "metadata": {
        "id": "G7Ry2XhHOCdr"
      },
      "source": [
        "#second layer\n",
        "l2_neurons_x = int(len_x / stride[0])\n",
        "l2_neurons_y = int(len_y / stride[0])\n",
        "print ('Creating layer 2 neurons: {} by {}'.format(l2_neurons_y, l2_neurons_x))"
      ],
      "execution_count": null,
      "outputs": []
    },
    {
      "cell_type": "code",
      "metadata": {
        "id": "1IW5krovOJhy"
      },
      "source": [
        "l2_neurons = []\n",
        "\n",
        "for y in range(l2_neurons_y):\n",
        "    l2_neuron_row = []\n",
        "    for x in range(l2_neurons_x):\n",
        "        l2_neuron_row.append(LIF.LIFNeuron(neuron_label=\"L2:{}/{}\".format(y,x), debug=debug))\n",
        "    l2_neurons.append(l2_neuron_row)"
      ],
      "execution_count": null,
      "outputs": []
    },
    {
      "cell_type": "code",
      "metadata": {
        "id": "2gC5zAlwOL9S"
      },
      "source": [
        "l2_neuron_stimulus = np.zeros((l2_neurons_y, l2_neurons_x, time))"
      ],
      "execution_count": null,
      "outputs": []
    },
    {
      "cell_type": "code",
      "metadata": {
        "id": "WWgwIRuhOQE9"
      },
      "source": [
        "mult_factor = 49           # Number of neurons for each pixel (this is a hack to reduce processing earlier,... \n",
        "                          # raise to 49 perhaps later!)\n",
        "l2x, l2y = 0,0\n",
        "for ry in range (0, len_y, stride[0]):\n",
        "    l2x = 0\n",
        "    for rx in range(0, len_x, stride[0]):\n",
        "        #x_end = rx + stride[0]\n",
        "        #y_end = ry + stride[0]       \n",
        "        stimulus_ret_unit = np.zeros(time)\n",
        "        print('Generating stimulus for L2 neurons {}/{}'.format(l2y, l2x))\n",
        "        for ny in range(stride[0]):\n",
        "            for nx in range(stride[0]):\n",
        "                x = rx + nx\n",
        "                y = ry + ny\n",
        "                print ('Processing stimulus for L1 neuron at {},{}'.format(y,x))\n",
        "                print ('Adding stimulus {}'.format(neurons[y][x].spikes[:time]))\n",
        "                stimulus_ret_unit += neurons[y][x].spikes[:time] * mult_factor\n",
        "        print ('Adding stimulus for l2 neuron {},{}, duration={}\\n'.format(l2y, l2x, len(stimulus_ret_unit)))\n",
        "        l2_neuron_stimulus[l2y,l2x,:] = stimulus_ret_unit\n",
        "        l2x += 1\n",
        "    l2y += 1\n"
      ],
      "execution_count": null,
      "outputs": []
    },
    {
      "cell_type": "code",
      "metadata": {
        "id": "EFLxUzwdOTKK"
      },
      "source": [
        "for y in range(l2_neurons_y):\n",
        "    for x in range(l2_neurons_x):\n",
        "        print('\\nProcessing L2 Neuron {},{} with stimulus length {}'.format(y,x,l2_neuron_stimulus[y][x]))\n",
        "        l2_neurons[y][x].spike_generator(l2_neuron_stimulus[y][x])"
      ],
      "execution_count": null,
      "outputs": []
    },
    {
      "cell_type": "code",
      "metadata": {
        "id": "Uy9W1Wy1OdaR"
      },
      "source": [
        "#fig, axes = plt.subplots(ncols=l2_neurons_x, nrows=l2_neurons_y, figsize=(10,10))\n",
        "fig=plt.figure(figsize=(12,12))\n",
        "fig.set_tight_layout({5,2,5})\n",
        "\n",
        "for y in range(l2_neurons_y):\n",
        "    for x in range(l2_neurons_x):\n",
        "        index=(y)*l2_neurons_x+x+1\n",
        "        id = \"{}{}{}\".format(l2_neurons_y, l2_neurons_x,index)\n",
        "        a=fig.add_subplot(l2_neurons_y, l2_neurons_x, index)\n",
        "        a.plot(l2_neurons[y][x].time, l2_neurons[y][x].Vm)\n",
        "        a.axis('off')\n",
        "        plt.title('Vm at {},{}'.format(y,x))\n",
        "        \n",
        "plt.show()"
      ],
      "execution_count": null,
      "outputs": []
    },
    {
      "cell_type": "code",
      "metadata": {
        "id": "7GyNzikzOgkp"
      },
      "source": [
        "#fig, axes = plt.subplots(ncols=l2_neurons_x, nrows=l2_neurons_y, figsize=(10,10))\n",
        "fig=plt.figure(figsize=(12,12))\n",
        "fig.set_tight_layout({5,2,5})\n",
        "\n",
        "for y in range(l2_neurons_y):\n",
        "    for x in range(l2_neurons_x):\n",
        "        index=(y)*l2_neurons_x+x+1\n",
        "        id = \"{}{}{}\".format(l2_neurons_y, l2_neurons_x,index)\n",
        "        a=fig.add_subplot(l2_neurons_y, l2_neurons_x, index)\n",
        "        a.plot(l2_neurons[y][x].time, l2_neurons[y][x].spikes)\n",
        "        a.axis('off')\n",
        "        plt.title('Spikes at {},{}'.format(y,x))\n",
        "        \n",
        "plt.show()"
      ],
      "execution_count": null,
      "outputs": []
    },
    {
      "cell_type": "code",
      "metadata": {
        "id": "h-vYamp9OjlZ"
      },
      "source": [
        ""
      ],
      "execution_count": null,
      "outputs": []
    }
  ]
}